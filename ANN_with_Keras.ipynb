{
  "nbformat": 4,
  "nbformat_minor": 0,
  "metadata": {
    "colab": {
      "name": "ANN_with_Keras.ipynb",
      "version": "0.3.2",
      "provenance": [],
      "include_colab_link": true
    },
    "kernelspec": {
      "name": "python3",
      "display_name": "Python 3"
    },
    "accelerator": "GPU"
  },
  "cells": [
    {
      "cell_type": "markdown",
      "metadata": {
        "id": "view-in-github",
        "colab_type": "text"
      },
      "source": [
        "<a href=\"https://colab.research.google.com/github/abhinabasaha/Implementation_of_ANN_with_Keras/blob/master/ANN_with_Keras.ipynb\" target=\"_parent\"><img src=\"https://colab.research.google.com/assets/colab-badge.svg\" alt=\"Open In Colab\"/></a>"
      ]
    },
    {
      "cell_type": "code",
      "metadata": {
        "id": "Wn8Z5RhO46Kg",
        "colab_type": "code",
        "colab": {
          "base_uri": "https://localhost:8080/",
          "height": 34
        },
        "outputId": "c219e959-f471-44d0-93d0-62d9612766df"
      },
      "source": [
        "#Mounting file to Google Co-laboratory\n",
        "\n",
        "from google.colab import drive\n",
        "drive.mount('/content/drive/')"
      ],
      "execution_count": 1,
      "outputs": [
        {
          "output_type": "stream",
          "text": [
            "Drive already mounted at /content/drive/; to attempt to forcibly remount, call drive.mount(\"/content/drive/\", force_remount=True).\n"
          ],
          "name": "stdout"
        }
      ]
    },
    {
      "cell_type": "markdown",
      "metadata": {
        "id": "uX67JBYXC1k8",
        "colab_type": "text"
      },
      "source": [
        "**Step 1: Data pre-processing**"
      ]
    },
    {
      "cell_type": "code",
      "metadata": {
        "id": "F7qDu1MF5mhj",
        "colab_type": "code",
        "colab": {}
      },
      "source": [
        "# Importing the libraries\n",
        "\n",
        "import numpy as np\n",
        "import matplotlib.pyplot as plt\n",
        "import pandas as pd\n"
      ],
      "execution_count": 0,
      "outputs": []
    },
    {
      "cell_type": "code",
      "metadata": {
        "id": "5i0p65UZ6xuT",
        "colab_type": "code",
        "colab": {}
      },
      "source": [
        "#Importing the dataset\n",
        "\n",
        "dataset = pd.read_csv(\"/content/drive/My Drive/DeepLearning/ANN_with_Keras/Artificial_Neural_Networks/Churn_Modelling.csv\")\n",
        "X = dataset.iloc[:, 3:13].values\n",
        "y = dataset.iloc[:, 13].values"
      ],
      "execution_count": 0,
      "outputs": []
    },
    {
      "cell_type": "code",
      "metadata": {
        "id": "5c2fFs938r19",
        "colab_type": "code",
        "colab": {}
      },
      "source": [
        "# Encoding categorical data (countries and gender)\n",
        "\n",
        "from sklearn.preprocessing import LabelEncoder, OneHotEncoder\n",
        "\n",
        "labelencoder_X_1 = LabelEncoder()\n",
        "X[:, 1] = labelencoder_X_1.fit_transform(X[:, 1])\n",
        "\n"
      ],
      "execution_count": 0,
      "outputs": []
    },
    {
      "cell_type": "code",
      "metadata": {
        "id": "U9h078nNBP-U",
        "colab_type": "code",
        "colab": {}
      },
      "source": [
        "labelencoder_X_2 = LabelEncoder()\n",
        "X[:, 2] = labelencoder_X_2.fit_transform(X[:, 2])\n"
      ],
      "execution_count": 0,
      "outputs": []
    },
    {
      "cell_type": "code",
      "metadata": {
        "id": "-yGXhAk4_k8j",
        "colab_type": "code",
        "colab": {}
      },
      "source": [
        "#Creating dummy variables for the 1st categorical data(corresponding to countries)\n",
        "\n",
        "onehotencoder = OneHotEncoder(categorical_features = [1])\n",
        "X = onehotencoder.fit_transform(X).toarray()\n",
        "\n",
        "#Removing one coloumn to avoid dummy variable trap\n",
        "X=X[:,1:]"
      ],
      "execution_count": 0,
      "outputs": []
    },
    {
      "cell_type": "code",
      "metadata": {
        "id": "r9vAECcpArZs",
        "colab_type": "code",
        "colab": {}
      },
      "source": [
        "# Splitting the dataset into the Training set and Test set\n",
        "    \n",
        "from sklearn.model_selection import train_test_split\n",
        "X_train, X_test, y_train, y_test = train_test_split(X, y, test_size = 0.2, random_state = 0)"
      ],
      "execution_count": 0,
      "outputs": []
    },
    {
      "cell_type": "code",
      "metadata": {
        "id": "9Wzlw07ECdLa",
        "colab_type": "code",
        "colab": {}
      },
      "source": [
        "# Feature Scaling\n",
        "\n",
        "from sklearn.preprocessing import StandardScaler\n",
        "sc = StandardScaler()\n",
        "X_train = sc.fit_transform(X_train)\n",
        "X_test = sc.transform(X_test)"
      ],
      "execution_count": 0,
      "outputs": []
    },
    {
      "cell_type": "markdown",
      "metadata": {
        "id": "HsY7Pbe2DXVx",
        "colab_type": "text"
      },
      "source": [
        " **Step 2: Creating the ANN**"
      ]
    },
    {
      "cell_type": "code",
      "metadata": {
        "id": "INqopZZfDSzu",
        "colab_type": "code",
        "colab": {
          "base_uri": "https://localhost:8080/",
          "height": 34
        },
        "outputId": "0158d4ab-99b2-44e2-b322-8ed652fed525"
      },
      "source": [
        "#Importing the necessary libraries\n",
        "\n",
        "import keras\n",
        "from keras.models import Sequential\n",
        "from keras.layers import Dense"
      ],
      "execution_count": 9,
      "outputs": [
        {
          "output_type": "stream",
          "text": [
            "Using TensorFlow backend.\n"
          ],
          "name": "stderr"
        }
      ]
    },
    {
      "cell_type": "code",
      "metadata": {
        "id": "0TImAYAeEbBq",
        "colab_type": "code",
        "colab": {}
      },
      "source": [
        "# Initialising the ANN\n",
        "\n",
        "classifier = Sequential()"
      ],
      "execution_count": 0,
      "outputs": []
    },
    {
      "cell_type": "code",
      "metadata": {
        "id": "X-RrKjACFFm7",
        "colab_type": "code",
        "colab": {}
      },
      "source": [
        "# Adding the input layer and the first hidden layer\n",
        "\n",
        "classifier.add(Dense(units = 6, kernel_initializer = 'uniform', activation = 'relu', input_dim = 11))\n"
      ],
      "execution_count": 0,
      "outputs": []
    },
    {
      "cell_type": "code",
      "metadata": {
        "id": "q7vvMrLXM7pG",
        "colab_type": "code",
        "colab": {}
      },
      "source": [
        "\n",
        "# Adding the second hidden layer\n",
        "\n",
        "classifier.add(Dense(units = 6, kernel_initializer = 'uniform', activation = 'relu'))\n"
      ],
      "execution_count": 0,
      "outputs": []
    },
    {
      "cell_type": "code",
      "metadata": {
        "id": "aKG3HPx_FrSy",
        "colab_type": "code",
        "colab": {}
      },
      "source": [
        "# Adding the output layer\n",
        "\n",
        "classifier.add(Dense(units = 1, kernel_initializer = 'uniform', activation = 'sigmoid'))\n",
        "\n"
      ],
      "execution_count": 0,
      "outputs": []
    },
    {
      "cell_type": "code",
      "metadata": {
        "id": "NIUchK6nFzvj",
        "colab_type": "code",
        "colab": {}
      },
      "source": [
        "# Compiling the ANN\n",
        "\n",
        "classifier.compile(optimizer = 'adam', loss = 'binary_crossentropy', metrics = ['accuracy'])"
      ],
      "execution_count": 0,
      "outputs": []
    },
    {
      "cell_type": "code",
      "metadata": {
        "id": "oTgOtobGF6q-",
        "colab_type": "code",
        "colab": {
          "base_uri": "https://localhost:8080/",
          "height": 1000
        },
        "outputId": "d7bbfb76-aa7c-46dc-f726-26f13faff574"
      },
      "source": [
        "# Fitting the ANN to the Training set\n",
        "\n",
        "classifier.fit(X_train, y_train, batch_size = 10, epochs = 100)"
      ],
      "execution_count": 15,
      "outputs": [
        {
          "output_type": "stream",
          "text": [
            "W0711 08:51:13.844362 140284180449152 deprecation_wrapper.py:119] From /usr/local/lib/python3.6/dist-packages/keras/backend/tensorflow_backend.py:986: The name tf.assign_add is deprecated. Please use tf.compat.v1.assign_add instead.\n",
            "\n"
          ],
          "name": "stderr"
        },
        {
          "output_type": "stream",
          "text": [
            "Epoch 1/100\n",
            "8000/8000 [==============================] - 8s 946us/step - loss: 0.5042 - acc: 0.7956\n",
            "Epoch 2/100\n",
            "8000/8000 [==============================] - 4s 446us/step - loss: 0.4267 - acc: 0.7960\n",
            "Epoch 3/100\n",
            "8000/8000 [==============================] - 4s 445us/step - loss: 0.4189 - acc: 0.8166\n",
            "Epoch 4/100\n",
            "8000/8000 [==============================] - 4s 452us/step - loss: 0.4135 - acc: 0.8304\n",
            "Epoch 5/100\n",
            "8000/8000 [==============================] - 4s 446us/step - loss: 0.4094 - acc: 0.8327\n",
            "Epoch 6/100\n",
            "8000/8000 [==============================] - 3s 437us/step - loss: 0.4064 - acc: 0.8346\n",
            "Epoch 7/100\n",
            "8000/8000 [==============================] - 4s 452us/step - loss: 0.4047 - acc: 0.8339\n",
            "Epoch 8/100\n",
            "8000/8000 [==============================] - 4s 443us/step - loss: 0.4032 - acc: 0.8357\n",
            "Epoch 9/100\n",
            "8000/8000 [==============================] - 4s 443us/step - loss: 0.4023 - acc: 0.8351\n",
            "Epoch 10/100\n",
            "8000/8000 [==============================] - 4s 448us/step - loss: 0.4014 - acc: 0.8331\n",
            "Epoch 11/100\n",
            "8000/8000 [==============================] - 4s 447us/step - loss: 0.4002 - acc: 0.8352\n",
            "Epoch 12/100\n",
            "8000/8000 [==============================] - 4s 441us/step - loss: 0.3995 - acc: 0.8352\n",
            "Epoch 13/100\n",
            "8000/8000 [==============================] - 4s 451us/step - loss: 0.3989 - acc: 0.8359\n",
            "Epoch 14/100\n",
            "8000/8000 [==============================] - 4s 452us/step - loss: 0.3981 - acc: 0.8341\n",
            "Epoch 15/100\n",
            "8000/8000 [==============================] - 4s 451us/step - loss: 0.3987 - acc: 0.8350\n",
            "Epoch 16/100\n",
            "8000/8000 [==============================] - 4s 444us/step - loss: 0.3978 - acc: 0.8360\n",
            "Epoch 17/100\n",
            "8000/8000 [==============================] - 4s 440us/step - loss: 0.3977 - acc: 0.8352\n",
            "Epoch 18/100\n",
            "8000/8000 [==============================] - 4s 478us/step - loss: 0.3973 - acc: 0.8367\n",
            "Epoch 19/100\n",
            "8000/8000 [==============================] - 4s 470us/step - loss: 0.3968 - acc: 0.8349\n",
            "Epoch 20/100\n",
            "8000/8000 [==============================] - 4s 451us/step - loss: 0.3965 - acc: 0.8372\n",
            "Epoch 21/100\n",
            "8000/8000 [==============================] - 4s 447us/step - loss: 0.3963 - acc: 0.8362\n",
            "Epoch 22/100\n",
            "8000/8000 [==============================] - 4s 451us/step - loss: 0.3965 - acc: 0.8374\n",
            "Epoch 23/100\n",
            "8000/8000 [==============================] - 4s 446us/step - loss: 0.3959 - acc: 0.8356\n",
            "Epoch 24/100\n",
            "8000/8000 [==============================] - 4s 445us/step - loss: 0.3958 - acc: 0.8370\n",
            "Epoch 25/100\n",
            "8000/8000 [==============================] - 4s 455us/step - loss: 0.3955 - acc: 0.8361\n",
            "Epoch 26/100\n",
            "8000/8000 [==============================] - 4s 443us/step - loss: 0.3954 - acc: 0.8361\n",
            "Epoch 27/100\n",
            "8000/8000 [==============================] - 4s 444us/step - loss: 0.3954 - acc: 0.8360\n",
            "Epoch 28/100\n",
            "8000/8000 [==============================] - 4s 457us/step - loss: 0.3948 - acc: 0.8379\n",
            "Epoch 29/100\n",
            "8000/8000 [==============================] - 4s 447us/step - loss: 0.3950 - acc: 0.8360\n",
            "Epoch 30/100\n",
            "8000/8000 [==============================] - 4s 446us/step - loss: 0.3945 - acc: 0.8364\n",
            "Epoch 31/100\n",
            "8000/8000 [==============================] - 4s 453us/step - loss: 0.3937 - acc: 0.8359\n",
            "Epoch 32/100\n",
            "8000/8000 [==============================] - 4s 449us/step - loss: 0.3935 - acc: 0.8362\n",
            "Epoch 33/100\n",
            "8000/8000 [==============================] - 4s 446us/step - loss: 0.3921 - acc: 0.8377\n",
            "Epoch 34/100\n",
            "8000/8000 [==============================] - 4s 446us/step - loss: 0.3907 - acc: 0.8374\n",
            "Epoch 35/100\n",
            "8000/8000 [==============================] - 4s 454us/step - loss: 0.3885 - acc: 0.8386\n",
            "Epoch 36/100\n",
            "8000/8000 [==============================] - 4s 457us/step - loss: 0.3860 - acc: 0.8361\n",
            "Epoch 37/100\n",
            "8000/8000 [==============================] - 4s 452us/step - loss: 0.3839 - acc: 0.8360\n",
            "Epoch 38/100\n",
            "8000/8000 [==============================] - 4s 441us/step - loss: 0.3817 - acc: 0.8377\n",
            "Epoch 39/100\n",
            "8000/8000 [==============================] - 4s 449us/step - loss: 0.3800 - acc: 0.8375\n",
            "Epoch 40/100\n",
            "8000/8000 [==============================] - 4s 443us/step - loss: 0.3795 - acc: 0.8377\n",
            "Epoch 41/100\n",
            "8000/8000 [==============================] - 4s 446us/step - loss: 0.3784 - acc: 0.8376\n",
            "Epoch 42/100\n",
            "8000/8000 [==============================] - 4s 442us/step - loss: 0.3776 - acc: 0.8370\n",
            "Epoch 43/100\n",
            "8000/8000 [==============================] - 4s 454us/step - loss: 0.3769 - acc: 0.8382\n",
            "Epoch 44/100\n",
            "8000/8000 [==============================] - 4s 448us/step - loss: 0.3774 - acc: 0.8391\n",
            "Epoch 45/100\n",
            "8000/8000 [==============================] - 4s 449us/step - loss: 0.3763 - acc: 0.8381\n",
            "Epoch 46/100\n",
            "8000/8000 [==============================] - 4s 445us/step - loss: 0.3765 - acc: 0.8372\n",
            "Epoch 47/100\n",
            "8000/8000 [==============================] - 4s 457us/step - loss: 0.3765 - acc: 0.8389\n",
            "Epoch 48/100\n",
            "8000/8000 [==============================] - 4s 445us/step - loss: 0.3754 - acc: 0.8386\n",
            "Epoch 49/100\n",
            "8000/8000 [==============================] - 4s 453us/step - loss: 0.3752 - acc: 0.8386\n",
            "Epoch 50/100\n",
            "8000/8000 [==============================] - 4s 444us/step - loss: 0.3750 - acc: 0.8372\n",
            "Epoch 51/100\n",
            "8000/8000 [==============================] - 4s 449us/step - loss: 0.3749 - acc: 0.8381\n",
            "Epoch 52/100\n",
            "8000/8000 [==============================] - 4s 447us/step - loss: 0.3750 - acc: 0.8389\n",
            "Epoch 53/100\n",
            "8000/8000 [==============================] - 4s 448us/step - loss: 0.3742 - acc: 0.8395\n",
            "Epoch 54/100\n",
            "8000/8000 [==============================] - 4s 452us/step - loss: 0.3749 - acc: 0.8382\n",
            "Epoch 55/100\n",
            "8000/8000 [==============================] - 4s 451us/step - loss: 0.3739 - acc: 0.8394\n",
            "Epoch 56/100\n",
            "8000/8000 [==============================] - 4s 450us/step - loss: 0.3740 - acc: 0.8391\n",
            "Epoch 57/100\n",
            "8000/8000 [==============================] - 4s 449us/step - loss: 0.3738 - acc: 0.8396\n",
            "Epoch 58/100\n",
            "8000/8000 [==============================] - 4s 443us/step - loss: 0.3742 - acc: 0.8390\n",
            "Epoch 59/100\n",
            "8000/8000 [==============================] - 4s 443us/step - loss: 0.3739 - acc: 0.8380\n",
            "Epoch 60/100\n",
            "8000/8000 [==============================] - 4s 446us/step - loss: 0.3733 - acc: 0.8411\n",
            "Epoch 61/100\n",
            "8000/8000 [==============================] - 4s 449us/step - loss: 0.3723 - acc: 0.8417\n",
            "Epoch 62/100\n",
            "8000/8000 [==============================] - 4s 449us/step - loss: 0.3726 - acc: 0.8436\n",
            "Epoch 63/100\n",
            "8000/8000 [==============================] - 4s 461us/step - loss: 0.3724 - acc: 0.8407\n",
            "Epoch 64/100\n",
            "8000/8000 [==============================] - 4s 450us/step - loss: 0.3719 - acc: 0.8430\n",
            "Epoch 65/100\n",
            "8000/8000 [==============================] - 4s 440us/step - loss: 0.3711 - acc: 0.8410\n",
            "Epoch 66/100\n",
            "8000/8000 [==============================] - 4s 465us/step - loss: 0.3707 - acc: 0.8422\n",
            "Epoch 67/100\n",
            "8000/8000 [==============================] - 4s 447us/step - loss: 0.3707 - acc: 0.8439\n",
            "Epoch 68/100\n",
            "8000/8000 [==============================] - 4s 464us/step - loss: 0.3703 - acc: 0.8442\n",
            "Epoch 69/100\n",
            "8000/8000 [==============================] - 4s 494us/step - loss: 0.3701 - acc: 0.8432\n",
            "Epoch 70/100\n",
            "8000/8000 [==============================] - 4s 486us/step - loss: 0.3700 - acc: 0.8419\n",
            "Epoch 71/100\n",
            "8000/8000 [==============================] - 4s 450us/step - loss: 0.3698 - acc: 0.8432\n",
            "Epoch 72/100\n",
            "8000/8000 [==============================] - 4s 455us/step - loss: 0.3690 - acc: 0.8439\n",
            "Epoch 73/100\n",
            "8000/8000 [==============================] - 4s 448us/step - loss: 0.3695 - acc: 0.8420\n",
            "Epoch 74/100\n",
            "8000/8000 [==============================] - 4s 458us/step - loss: 0.3687 - acc: 0.8431\n",
            "Epoch 75/100\n",
            "8000/8000 [==============================] - 4s 445us/step - loss: 0.3686 - acc: 0.8442\n",
            "Epoch 76/100\n",
            "8000/8000 [==============================] - 4s 451us/step - loss: 0.3674 - acc: 0.8416\n",
            "Epoch 77/100\n",
            "8000/8000 [==============================] - 4s 448us/step - loss: 0.3675 - acc: 0.8457\n",
            "Epoch 78/100\n",
            "8000/8000 [==============================] - 4s 452us/step - loss: 0.3678 - acc: 0.8444\n",
            "Epoch 79/100\n",
            "8000/8000 [==============================] - 4s 445us/step - loss: 0.3673 - acc: 0.8437\n",
            "Epoch 80/100\n",
            "8000/8000 [==============================] - 4s 453us/step - loss: 0.3675 - acc: 0.8442\n",
            "Epoch 81/100\n",
            "8000/8000 [==============================] - 4s 453us/step - loss: 0.3676 - acc: 0.8426\n",
            "Epoch 82/100\n",
            "8000/8000 [==============================] - 4s 450us/step - loss: 0.3667 - acc: 0.8451\n",
            "Epoch 83/100\n",
            "8000/8000 [==============================] - 4s 454us/step - loss: 0.3663 - acc: 0.8449\n",
            "Epoch 84/100\n",
            "8000/8000 [==============================] - 4s 443us/step - loss: 0.3660 - acc: 0.8444\n",
            "Epoch 85/100\n",
            "8000/8000 [==============================] - 4s 449us/step - loss: 0.3661 - acc: 0.8455\n",
            "Epoch 86/100\n",
            "8000/8000 [==============================] - 4s 459us/step - loss: 0.3659 - acc: 0.8436\n",
            "Epoch 87/100\n",
            "8000/8000 [==============================] - 4s 443us/step - loss: 0.3647 - acc: 0.8439\n",
            "Epoch 88/100\n",
            "8000/8000 [==============================] - 4s 449us/step - loss: 0.3645 - acc: 0.8446\n",
            "Epoch 89/100\n",
            "8000/8000 [==============================] - 4s 449us/step - loss: 0.3642 - acc: 0.8424\n",
            "Epoch 90/100\n",
            "8000/8000 [==============================] - 4s 446us/step - loss: 0.3630 - acc: 0.8475\n",
            "Epoch 91/100\n",
            "8000/8000 [==============================] - 4s 450us/step - loss: 0.3624 - acc: 0.8472\n",
            "Epoch 92/100\n",
            "8000/8000 [==============================] - 4s 447us/step - loss: 0.3620 - acc: 0.8474\n",
            "Epoch 93/100\n",
            "8000/8000 [==============================] - 4s 446us/step - loss: 0.3609 - acc: 0.8479\n",
            "Epoch 94/100\n",
            "8000/8000 [==============================] - 4s 451us/step - loss: 0.3602 - acc: 0.8515\n",
            "Epoch 95/100\n",
            "8000/8000 [==============================] - 4s 445us/step - loss: 0.3595 - acc: 0.8505\n",
            "Epoch 96/100\n",
            "8000/8000 [==============================] - 4s 462us/step - loss: 0.3575 - acc: 0.8507\n",
            "Epoch 97/100\n",
            "8000/8000 [==============================] - 4s 443us/step - loss: 0.3568 - acc: 0.8501\n",
            "Epoch 98/100\n",
            "8000/8000 [==============================] - 4s 448us/step - loss: 0.3563 - acc: 0.8531\n",
            "Epoch 99/100\n",
            "8000/8000 [==============================] - 4s 444us/step - loss: 0.3543 - acc: 0.8552\n",
            "Epoch 100/100\n",
            "8000/8000 [==============================] - 4s 449us/step - loss: 0.3536 - acc: 0.8524\n"
          ],
          "name": "stdout"
        },
        {
          "output_type": "execute_result",
          "data": {
            "text/plain": [
              "<keras.callbacks.History at 0x7f9622ef69b0>"
            ]
          },
          "metadata": {
            "tags": []
          },
          "execution_count": 15
        }
      ]
    },
    {
      "cell_type": "code",
      "metadata": {
        "id": "FnJCBc40ND0h",
        "colab_type": "code",
        "colab": {}
      },
      "source": [
        "# Predicting the Test set results\n",
        "\n",
        "y_pred = classifier.predict(X_test)\n",
        "y_pred = (y_pred > 0.5)\n"
      ],
      "execution_count": 0,
      "outputs": []
    },
    {
      "cell_type": "code",
      "metadata": {
        "id": "LvgimQMqsTgq",
        "colab_type": "code",
        "colab": {
          "base_uri": "https://localhost:8080/",
          "height": 139
        },
        "outputId": "91d72f21-6081-4003-ec70-2a5e1b1f65b1"
      },
      "source": [
        "y_pred"
      ],
      "execution_count": 22,
      "outputs": [
        {
          "output_type": "execute_result",
          "data": {
            "text/plain": [
              "array([[False],\n",
              "       [False],\n",
              "       [False],\n",
              "       ...,\n",
              "       [False],\n",
              "       [False],\n",
              "       [False]])"
            ]
          },
          "metadata": {
            "tags": []
          },
          "execution_count": 22
        }
      ]
    },
    {
      "cell_type": "code",
      "metadata": {
        "id": "dhY_VGHER0WT",
        "colab_type": "code",
        "colab": {}
      },
      "source": [
        "# Making the Confusion Matrix\n",
        "\n",
        "from sklearn.metrics import confusion_matrix\n",
        "cm = confusion_matrix(y_test, y_pred)"
      ],
      "execution_count": 0,
      "outputs": []
    },
    {
      "cell_type": "code",
      "metadata": {
        "id": "U6HzDdIqsaTt",
        "colab_type": "code",
        "colab": {
          "base_uri": "https://localhost:8080/",
          "height": 52
        },
        "outputId": "e5a0d8a7-5041-4a92-874e-5018aa438941"
      },
      "source": [
        "cm"
      ],
      "execution_count": 23,
      "outputs": [
        {
          "output_type": "execute_result",
          "data": {
            "text/plain": [
              "array([[1523,   72],\n",
              "       [ 221,  184]])"
            ]
          },
          "metadata": {
            "tags": []
          },
          "execution_count": 23
        }
      ]
    },
    {
      "cell_type": "markdown",
      "metadata": {
        "id": "RXQwhkCVsyBG",
        "colab_type": "text"
      },
      "source": [
        "Accuracy= (Number of Correct Predictions)/(Total number of predictions)"
      ]
    },
    {
      "cell_type": "code",
      "metadata": {
        "id": "JPQpZv_psd3h",
        "colab_type": "code",
        "colab": {
          "base_uri": "https://localhost:8080/",
          "height": 34
        },
        "outputId": "e15019b0-0b2f-493b-cd62-f78e91edb445"
      },
      "source": [
        "accuracy=(1523+184)/(2000)\n",
        "accuracy*100"
      ],
      "execution_count": 25,
      "outputs": [
        {
          "output_type": "execute_result",
          "data": {
            "text/plain": [
              "85.35000000000001"
            ]
          },
          "metadata": {
            "tags": []
          },
          "execution_count": 25
        }
      ]
    },
    {
      "cell_type": "markdown",
      "metadata": {
        "id": "MciSGO4TtQL9",
        "colab_type": "text"
      },
      "source": [
        "So we get an accuracy of 85.35% on new observations."
      ]
    },
    {
      "cell_type": "markdown",
      "metadata": {
        "id": "dlpLQYdha25K",
        "colab_type": "text"
      },
      "source": [
        ""
      ]
    }
  ]
}